{
 "cells": [
  {
   "cell_type": "code",
   "execution_count": null,
   "metadata": {},
   "outputs": [],
   "source": [
    "from sklearn.datasets import fetch_20newsgroups\n",
    "from sklearn.naive_bayes import MultinomialNB\n",
    "from sklearn.feature_extraction.text import CountVectorizer\n",
    "\n",
    "emails = fetch_20newsgroups()\n",
    "\n",
    "# print(emails.target_names)\n",
    "\n",
    "emails = fetch_20newsgroups(categories = ['rec.sport.baseball', 'rec.sport.hockey'])\n",
    "\n",
    "\n",
    "print(emails.data[5])\n",
    "\n",
    "train_emails = fetch_20newsgroups(categories = ['comp.sys.ibm.pc.hardware','rec.sport.hockey'], subset = 'train')\n",
    "\n",
    "\n",
    "\n",
    "test_emails = fetch_20newsgroups(categories = ['comp.sys.ibm.pc.hardware','rec.sport.hockey'], subset = 'test')\n",
    "\n",
    "counter= CountVectorizer()\n",
    "\n",
    "counter.fit(test_emails.data + train_emails.data)\n",
    "\n",
    "train_counts=counter.transform(train_emails.data)\n",
    "\n",
    "test_counts=counter.transform(test_emails.data)\n",
    "\n",
    "classifier = MultinomialNB()\n",
    "\n",
    "classifier.fit(train_counts, train_emails.target)\n",
    "\n",
    "score= classifier.score(test_counts, test_emails.target) \n",
    "\n",
    "print(score) "
   ]
  }
 ],
 "metadata": {
  "kernelspec": {
   "display_name": "Python 3",
   "language": "python",
   "name": "python3"
  },
  "language_info": {
   "codemirror_mode": {
    "name": "ipython",
    "version": 3
   },
   "file_extension": ".py",
   "mimetype": "text/x-python",
   "name": "python",
   "nbconvert_exporter": "python",
   "pygments_lexer": "ipython3",
   "version": "3.7.6"
  }
 },
 "nbformat": 4,
 "nbformat_minor": 4
}
